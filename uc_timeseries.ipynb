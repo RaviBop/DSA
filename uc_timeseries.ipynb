{
 "cells": [
  {
   "cell_type": "code",
   "execution_count": 25,
   "id": "15cc7102",
   "metadata": {},
   "outputs": [],
   "source": [
    "import numpy as np\n",
    "import pandas as pd\n",
    "import geopandas as gpd\n",
    "import os\n",
    "import matplotlib.pylab as plt"
   ]
  },
  {
   "cell_type": "code",
   "execution_count": 26,
   "id": "a91ff850",
   "metadata": {},
   "outputs": [
    {
     "data": {
      "application/javascript": [
       "IPython.OutputArea.prototype._should_scroll = function(lines) {\n",
       "    return false;\n",
       "}\n"
      ],
      "text/plain": [
       "<IPython.core.display.Javascript object>"
      ]
     },
     "metadata": {},
     "output_type": "display_data"
    }
   ],
   "source": [
    "%%javascript\n",
    "IPython.OutputArea.prototype._should_scroll = function(lines) {\n",
    "    return false;\n",
    "}"
   ]
  },
  {
   "cell_type": "code",
   "execution_count": 27,
   "id": "586eb15d",
   "metadata": {},
   "outputs": [
    {
     "name": "stdout",
     "output_type": "stream",
     "text": [
      "CPU times: user 4 µs, sys: 13 µs, total: 17 µs\n",
      "Wall time: 20.5 µs\n"
     ]
    }
   ],
   "source": [
    "\n",
    "%%time\n",
    "data_root = os.path.join(\"/\", \"mnt\", \"hgfs\", \"Temp\", \"DSA\", \"ravi\", \"data\")\n",
    "uc_path =os.path.join(data_root, \"uc1.csv\") \n"
   ]
  },
  {
   "cell_type": "code",
   "execution_count": 60,
   "id": "27c577bb",
   "metadata": {},
   "outputs": [],
   "source": [
    "\n",
    "uc_data = pd.read_csv(uc_path, header=None)\n",
    "uc_data1 = uc_data.set_axis(['date', 'customers'], axis=1, inplace=True)                      \n"
   ]
  },
  {
   "cell_type": "code",
   "execution_count": 63,
   "id": "08744188",
   "metadata": {},
   "outputs": [
    {
     "data": {
      "text/html": [
       "<div>\n",
       "<style scoped>\n",
       "    .dataframe tbody tr th:only-of-type {\n",
       "        vertical-align: middle;\n",
       "    }\n",
       "\n",
       "    .dataframe tbody tr th {\n",
       "        vertical-align: top;\n",
       "    }\n",
       "\n",
       "    .dataframe thead th {\n",
       "        text-align: right;\n",
       "    }\n",
       "</style>\n",
       "<table border=\"1\" class=\"dataframe\">\n",
       "  <thead>\n",
       "    <tr style=\"text-align: right;\">\n",
       "      <th></th>\n",
       "      <th>date</th>\n",
       "      <th>customers</th>\n",
       "    </tr>\n",
       "  </thead>\n",
       "  <tbody>\n",
       "    <tr>\n",
       "      <th>0</th>\n",
       "      <td>01/12/2018</td>\n",
       "      <td>1535143</td>\n",
       "    </tr>\n",
       "    <tr>\n",
       "      <th>1</th>\n",
       "      <td>01/01/2019</td>\n",
       "      <td>1618043</td>\n",
       "    </tr>\n",
       "    <tr>\n",
       "      <th>2</th>\n",
       "      <td>01/02/2019</td>\n",
       "      <td>1706607</td>\n",
       "    </tr>\n",
       "    <tr>\n",
       "      <th>3</th>\n",
       "      <td>01/03/2019</td>\n",
       "      <td>1816280</td>\n",
       "    </tr>\n",
       "    <tr>\n",
       "      <th>4</th>\n",
       "      <td>01/04/2019</td>\n",
       "      <td>1940904</td>\n",
       "    </tr>\n",
       "    <tr>\n",
       "      <th>5</th>\n",
       "      <td>01/05/2019</td>\n",
       "      <td>2026245</td>\n",
       "    </tr>\n",
       "    <tr>\n",
       "      <th>6</th>\n",
       "      <td>01/06/2019</td>\n",
       "      <td>2151015</td>\n",
       "    </tr>\n",
       "    <tr>\n",
       "      <th>7</th>\n",
       "      <td>01/07/2019</td>\n",
       "      <td>2249063</td>\n",
       "    </tr>\n",
       "    <tr>\n",
       "      <th>8</th>\n",
       "      <td>01/08/2019</td>\n",
       "      <td>2350373</td>\n",
       "    </tr>\n",
       "    <tr>\n",
       "      <th>9</th>\n",
       "      <td>01/09/2019</td>\n",
       "      <td>2454646</td>\n",
       "    </tr>\n",
       "    <tr>\n",
       "      <th>10</th>\n",
       "      <td>01/10/2019</td>\n",
       "      <td>2546973</td>\n",
       "    </tr>\n",
       "    <tr>\n",
       "      <th>11</th>\n",
       "      <td>01/11/2019</td>\n",
       "      <td>2655220</td>\n",
       "    </tr>\n",
       "    <tr>\n",
       "      <th>12</th>\n",
       "      <td>01/12/2019</td>\n",
       "      <td>2730575</td>\n",
       "    </tr>\n",
       "    <tr>\n",
       "      <th>13</th>\n",
       "      <td>01/01/2020</td>\n",
       "      <td>2773081</td>\n",
       "    </tr>\n",
       "    <tr>\n",
       "      <th>14</th>\n",
       "      <td>01/02/2020</td>\n",
       "      <td>2915508</td>\n",
       "    </tr>\n",
       "    <tr>\n",
       "      <th>15</th>\n",
       "      <td>01/03/2020</td>\n",
       "      <td>3012736</td>\n",
       "    </tr>\n",
       "    <tr>\n",
       "      <th>16</th>\n",
       "      <td>01/04/2020</td>\n",
       "      <td>4210379</td>\n",
       "    </tr>\n",
       "    <tr>\n",
       "      <th>17</th>\n",
       "      <td>01/05/2020</td>\n",
       "      <td>5259937</td>\n",
       "    </tr>\n",
       "    <tr>\n",
       "      <th>18</th>\n",
       "      <td>01/06/2020</td>\n",
       "      <td>5430945</td>\n",
       "    </tr>\n",
       "    <tr>\n",
       "      <th>19</th>\n",
       "      <td>01/07/2020</td>\n",
       "      <td>5511859</td>\n",
       "    </tr>\n",
       "    <tr>\n",
       "      <th>20</th>\n",
       "      <td>01/08/2020</td>\n",
       "      <td>5571239</td>\n",
       "    </tr>\n",
       "    <tr>\n",
       "      <th>21</th>\n",
       "      <td>01/09/2020</td>\n",
       "      <td>5639688</td>\n",
       "    </tr>\n",
       "    <tr>\n",
       "      <th>22</th>\n",
       "      <td>01/10/2020</td>\n",
       "      <td>5675985</td>\n",
       "    </tr>\n",
       "    <tr>\n",
       "      <th>23</th>\n",
       "      <td>01/11/2020</td>\n",
       "      <td>5789314</td>\n",
       "    </tr>\n",
       "    <tr>\n",
       "      <th>24</th>\n",
       "      <td>01/12/2020</td>\n",
       "      <td>5877471</td>\n",
       "    </tr>\n",
       "    <tr>\n",
       "      <th>25</th>\n",
       "      <td>01/01/2021</td>\n",
       "      <td>5899849</td>\n",
       "    </tr>\n",
       "    <tr>\n",
       "      <th>26</th>\n",
       "      <td>01/02/2021</td>\n",
       "      <td>5947512</td>\n",
       "    </tr>\n",
       "    <tr>\n",
       "      <th>27</th>\n",
       "      <td>01/03/2021</td>\n",
       "      <td>5972083</td>\n",
       "    </tr>\n",
       "    <tr>\n",
       "      <th>28</th>\n",
       "      <td>01/04/2021</td>\n",
       "      <td>5957521</td>\n",
       "    </tr>\n",
       "    <tr>\n",
       "      <th>29</th>\n",
       "      <td>01/05/2021</td>\n",
       "      <td>5938914</td>\n",
       "    </tr>\n",
       "    <tr>\n",
       "      <th>30</th>\n",
       "      <td>01/06/2021</td>\n",
       "      <td>5888753</td>\n",
       "    </tr>\n",
       "    <tr>\n",
       "      <th>31</th>\n",
       "      <td>01/07/2021</td>\n",
       "      <td>5842568</td>\n",
       "    </tr>\n",
       "    <tr>\n",
       "      <th>32</th>\n",
       "      <td>01/08/2021</td>\n",
       "      <td>5806038</td>\n",
       "    </tr>\n",
       "    <tr>\n",
       "      <th>33</th>\n",
       "      <td>01/09/2021</td>\n",
       "      <td>5836961</td>\n",
       "    </tr>\n",
       "  </tbody>\n",
       "</table>\n",
       "</div>"
      ],
      "text/plain": [
       "          date  customers\n",
       "0   01/12/2018    1535143\n",
       "1   01/01/2019    1618043\n",
       "2   01/02/2019    1706607\n",
       "3   01/03/2019    1816280\n",
       "4   01/04/2019    1940904\n",
       "5   01/05/2019    2026245\n",
       "6   01/06/2019    2151015\n",
       "7   01/07/2019    2249063\n",
       "8   01/08/2019    2350373\n",
       "9   01/09/2019    2454646\n",
       "10  01/10/2019    2546973\n",
       "11  01/11/2019    2655220\n",
       "12  01/12/2019    2730575\n",
       "13  01/01/2020    2773081\n",
       "14  01/02/2020    2915508\n",
       "15  01/03/2020    3012736\n",
       "16  01/04/2020    4210379\n",
       "17  01/05/2020    5259937\n",
       "18  01/06/2020    5430945\n",
       "19  01/07/2020    5511859\n",
       "20  01/08/2020    5571239\n",
       "21  01/09/2020    5639688\n",
       "22  01/10/2020    5675985\n",
       "23  01/11/2020    5789314\n",
       "24  01/12/2020    5877471\n",
       "25  01/01/2021    5899849\n",
       "26  01/02/2021    5947512\n",
       "27  01/03/2021    5972083\n",
       "28  01/04/2021    5957521\n",
       "29  01/05/2021    5938914\n",
       "30  01/06/2021    5888753\n",
       "31  01/07/2021    5842568\n",
       "32  01/08/2021    5806038\n",
       "33  01/09/2021    5836961"
      ]
     },
     "execution_count": 63,
     "metadata": {},
     "output_type": "execute_result"
    }
   ],
   "source": [
    "uc_data"
   ]
  },
  {
   "cell_type": "code",
   "execution_count": 64,
   "id": "57f45eaa",
   "metadata": {},
   "outputs": [
    {
     "data": {
      "text/plain": [
       "(34, 2)"
      ]
     },
     "execution_count": 64,
     "metadata": {},
     "output_type": "execute_result"
    }
   ],
   "source": [
    "uc_data.shape"
   ]
  },
  {
   "cell_type": "code",
   "execution_count": 65,
   "id": "bfca0c42",
   "metadata": {},
   "outputs": [
    {
     "name": "stdout",
     "output_type": "stream",
     "text": [
      "0 date\n",
      "1 customers\n"
     ]
    },
    {
     "data": {
      "image/png": "[encoded data removed]",
      "text/plain": [
       "<Figure size 2160x720 with 1 Axes>"
      ]
     },
     "metadata": {
      "needs_background": "light"
     },
     "output_type": "display_data"
    }
   ],
   "source": [
    "for ind, column in enumerate(uc_data.columns):\n",
    "    print(ind, column)\n",
    "    if ind != 0:\n",
    "        fig, ax = plt.subplots(figsize=(30, 10))\n",
    "        uc_data[column].head(100000).plot(ax=ax)\n",
    "        ax.set_xlabel('time',  fontsize=34)\n",
    "        ax.set_ylabel('value',  fontsize=34)\n",
    "        ax.set_title(column, fontsize=34)\n",
    "        "
   ]
  },
  {
   "cell_type": "code",
   "execution_count": 66,
   "id": "427ab134",
   "metadata": {},
   "outputs": [],
   "source": [
    "uc_data[[\"date\"]] = uc_data[[\"date\"]].apply(pd.to_datetime)\n",
    "uc_data = uc_data.set_index('date')\n",
    "uc_data = uc_data.sort_index()"
   ]
  },
  {
   "cell_type": "code",
   "execution_count": 67,
   "id": "8219cd92",
   "metadata": {},
   "outputs": [
    {
     "data": {
      "text/plain": [
       "(27, 1)"
      ]
     },
     "execution_count": 67,
     "metadata": {},
     "output_type": "execute_result"
    }
   ],
   "source": [
    "training_data = uc_data[:27]\n",
    "training_data.shape"
   ]
  },
  {
   "cell_type": "code",
   "execution_count": 68,
   "id": "83ec7bcc",
   "metadata": {},
   "outputs": [
    {
     "data": {
      "text/plain": [
       "(7, 1)"
      ]
     },
     "execution_count": 68,
     "metadata": {},
     "output_type": "execute_result"
    }
   ],
   "source": [
    "testing_data = uc_data[27:]\n",
    "testing_data.shape"
   ]
  },
  {
   "cell_type": "code",
   "execution_count": 69,
   "id": "bffd8832",
   "metadata": {},
   "outputs": [
    {
     "data": {
      "text/html": [
       "<div>\n",
       "<style scoped>\n",
       "    .dataframe tbody tr th:only-of-type {\n",
       "        vertical-align: middle;\n",
       "    }\n",
       "\n",
       "    .dataframe tbody tr th {\n",
       "        vertical-align: top;\n",
       "    }\n",
       "\n",
       "    .dataframe thead th {\n",
       "        text-align: right;\n",
       "    }\n",
       "</style>\n",
       "<table border=\"1\" class=\"dataframe\">\n",
       "  <thead>\n",
       "    <tr style=\"text-align: right;\">\n",
       "      <th></th>\n",
       "      <th>customers</th>\n",
       "    </tr>\n",
       "    <tr>\n",
       "      <th>date</th>\n",
       "      <th></th>\n",
       "    </tr>\n",
       "  </thead>\n",
       "  <tbody>\n",
       "    <tr>\n",
       "      <th>2018-01-12</th>\n",
       "      <td>1535143</td>\n",
       "    </tr>\n",
       "    <tr>\n",
       "      <th>2019-01-01</th>\n",
       "      <td>1618043</td>\n",
       "    </tr>\n",
       "    <tr>\n",
       "      <th>2019-01-02</th>\n",
       "      <td>1706607</td>\n",
       "    </tr>\n",
       "    <tr>\n",
       "      <th>2019-01-03</th>\n",
       "      <td>1816280</td>\n",
       "    </tr>\n",
       "    <tr>\n",
       "      <th>2019-01-04</th>\n",
       "      <td>1940904</td>\n",
       "    </tr>\n",
       "    <tr>\n",
       "      <th>2019-01-05</th>\n",
       "      <td>2026245</td>\n",
       "    </tr>\n",
       "    <tr>\n",
       "      <th>2019-01-06</th>\n",
       "      <td>2151015</td>\n",
       "    </tr>\n",
       "    <tr>\n",
       "      <th>2019-01-07</th>\n",
       "      <td>2249063</td>\n",
       "    </tr>\n",
       "    <tr>\n",
       "      <th>2019-01-08</th>\n",
       "      <td>2350373</td>\n",
       "    </tr>\n",
       "    <tr>\n",
       "      <th>2019-01-09</th>\n",
       "      <td>2454646</td>\n",
       "    </tr>\n",
       "    <tr>\n",
       "      <th>2019-01-10</th>\n",
       "      <td>2546973</td>\n",
       "    </tr>\n",
       "    <tr>\n",
       "      <th>2019-01-11</th>\n",
       "      <td>2655220</td>\n",
       "    </tr>\n",
       "    <tr>\n",
       "      <th>2019-01-12</th>\n",
       "      <td>2730575</td>\n",
       "    </tr>\n",
       "    <tr>\n",
       "      <th>2020-01-01</th>\n",
       "      <td>2773081</td>\n",
       "    </tr>\n",
       "    <tr>\n",
       "      <th>2020-01-02</th>\n",
       "      <td>2915508</td>\n",
       "    </tr>\n",
       "    <tr>\n",
       "      <th>2020-01-03</th>\n",
       "      <td>3012736</td>\n",
       "    </tr>\n",
       "    <tr>\n",
       "      <th>2020-01-04</th>\n",
       "      <td>4210379</td>\n",
       "    </tr>\n",
       "    <tr>\n",
       "      <th>2020-01-05</th>\n",
       "      <td>5259937</td>\n",
       "    </tr>\n",
       "    <tr>\n",
       "      <th>2020-01-06</th>\n",
       "      <td>5430945</td>\n",
       "    </tr>\n",
       "    <tr>\n",
       "      <th>2020-01-07</th>\n",
       "      <td>5511859</td>\n",
       "    </tr>\n",
       "    <tr>\n",
       "      <th>2020-01-08</th>\n",
       "      <td>5571239</td>\n",
       "    </tr>\n",
       "    <tr>\n",
       "      <th>2020-01-09</th>\n",
       "      <td>5639688</td>\n",
       "    </tr>\n",
       "    <tr>\n",
       "      <th>2020-01-10</th>\n",
       "      <td>5675985</td>\n",
       "    </tr>\n",
       "    <tr>\n",
       "      <th>2020-01-11</th>\n",
       "      <td>5789314</td>\n",
       "    </tr>\n",
       "    <tr>\n",
       "      <th>2020-01-12</th>\n",
       "      <td>5877471</td>\n",
       "    </tr>\n",
       "    <tr>\n",
       "      <th>2021-01-01</th>\n",
       "      <td>5899849</td>\n",
       "    </tr>\n",
       "    <tr>\n",
       "      <th>2021-01-02</th>\n",
       "      <td>5947512</td>\n",
       "    </tr>\n",
       "  </tbody>\n",
       "</table>\n",
       "</div>"
      ],
      "text/plain": [
       "            customers\n",
       "date                 \n",
       "2018-01-12    1535143\n",
       "2019-01-01    1618043\n",
       "2019-01-02    1706607\n",
       "2019-01-03    1816280\n",
       "2019-01-04    1940904\n",
       "2019-01-05    2026245\n",
       "2019-01-06    2151015\n",
       "2019-01-07    2249063\n",
       "2019-01-08    2350373\n",
       "2019-01-09    2454646\n",
       "2019-01-10    2546973\n",
       "2019-01-11    2655220\n",
       "2019-01-12    2730575\n",
       "2020-01-01    2773081\n",
       "2020-01-02    2915508\n",
       "2020-01-03    3012736\n",
       "2020-01-04    4210379\n",
       "2020-01-05    5259937\n",
       "2020-01-06    5430945\n",
       "2020-01-07    5511859\n",
       "2020-01-08    5571239\n",
       "2020-01-09    5639688\n",
       "2020-01-10    5675985\n",
       "2020-01-11    5789314\n",
       "2020-01-12    5877471\n",
       "2021-01-01    5899849\n",
       "2021-01-02    5947512"
      ]
     },
     "execution_count": 69,
     "metadata": {},
     "output_type": "execute_result"
    }
   ],
   "source": [
    "training_data"
   ]
  },
  {
   "cell_type": "code",
   "execution_count": 70,
   "id": "4d24be81",
   "metadata": {},
   "outputs": [
    {
     "data": {
      "text/html": [
       "<div>\n",
       "<style scoped>\n",
       "    .dataframe tbody tr th:only-of-type {\n",
       "        vertical-align: middle;\n",
       "    }\n",
       "\n",
       "    .dataframe tbody tr th {\n",
       "        vertical-align: top;\n",
       "    }\n",
       "\n",
       "    .dataframe thead th {\n",
       "        text-align: right;\n",
       "    }\n",
       "</style>\n",
       "<table border=\"1\" class=\"dataframe\">\n",
       "  <thead>\n",
       "    <tr style=\"text-align: right;\">\n",
       "      <th></th>\n",
       "      <th>customers</th>\n",
       "    </tr>\n",
       "    <tr>\n",
       "      <th>date</th>\n",
       "      <th></th>\n",
       "    </tr>\n",
       "  </thead>\n",
       "  <tbody>\n",
       "    <tr>\n",
       "      <th>2021-01-03</th>\n",
       "      <td>5972083</td>\n",
       "    </tr>\n",
       "    <tr>\n",
       "      <th>2021-01-04</th>\n",
       "      <td>5957521</td>\n",
       "    </tr>\n",
       "    <tr>\n",
       "      <th>2021-01-05</th>\n",
       "      <td>5938914</td>\n",
       "    </tr>\n",
       "    <tr>\n",
       "      <th>2021-01-06</th>\n",
       "      <td>5888753</td>\n",
       "    </tr>\n",
       "    <tr>\n",
       "      <th>2021-01-07</th>\n",
       "      <td>5842568</td>\n",
       "    </tr>\n",
       "    <tr>\n",
       "      <th>2021-01-08</th>\n",
       "      <td>5806038</td>\n",
       "    </tr>\n",
       "    <tr>\n",
       "      <th>2021-01-09</th>\n",
       "      <td>5836961</td>\n",
       "    </tr>\n",
       "  </tbody>\n",
       "</table>\n",
       "</div>"
      ],
      "text/plain": [
       "            customers\n",
       "date                 \n",
       "2021-01-03    5972083\n",
       "2021-01-04    5957521\n",
       "2021-01-05    5938914\n",
       "2021-01-06    5888753\n",
       "2021-01-07    5842568\n",
       "2021-01-08    5806038\n",
       "2021-01-09    5836961"
      ]
     },
     "execution_count": 70,
     "metadata": {},
     "output_type": "execute_result"
    }
   ],
   "source": [
    "testing_data"
   ]
  },
  {
   "cell_type": "code",
   "execution_count": 72,
   "id": "4e4d0597",
   "metadata": {},
   "outputs": [
    {
     "name": "stdout",
     "output_type": "stream",
     "text": [
      "(27, 1) (7, 1)\n"
     ]
    }
   ],
   "source": [
    "print(training_data.shape, testing_data.shape)"
   ]
  },
  {
   "cell_type": "code",
   "execution_count": 81,
   "id": "a05633d7",
   "metadata": {},
   "outputs": [],
   "source": [
    "\n",
    "import scipy.io\n",
    "import matplotlib.pyplot as plt\n",
    "from sklearn.utils import shuffle\n",
    "from sklearn.ensemble import RandomForestRegressor\n",
    "from sklearn.model_selection import train_test_split\n",
    "from sklearn.metrics import accuracy_score\n",
    "from sklearn.metrics import precision_score\n",
    "from sklearn.metrics import recall_score\n",
    "from sklearn.metrics import r2_score, mean_squared_error, mean_absolute_error"
   ]
  },
  {
   "cell_type": "code",
   "execution_count": 82,
   "id": "503d0fcd",
   "metadata": {},
   "outputs": [],
   "source": [
    "y_train = training_data['customers'].to_numpy(copy=True, dtype=str)\n",
    "y_test = testing_data['customers'].to_numpy(copy=True, dtype=str)\n"
   ]
  },
  {
   "cell_type": "code",
   "execution_count": 83,
   "id": "532d2093",
   "metadata": {},
   "outputs": [],
   "source": [
    "\n",
    "ploting_data = pd.DataFrame(testing_data['customers'])\n"
   ]
  },
  {
   "cell_type": "code",
   "execution_count": 84,
   "id": "3e848a74",
   "metadata": {},
   "outputs": [],
   "source": [
    "X_train = training_data.to_numpy(copy=True, dtype=np.float32)\n",
    "X_test = testing_data.to_numpy(copy=True, dtype=np.float32)"
   ]
  },
  {
   "cell_type": "code",
   "execution_count": 85,
   "id": "cd409be6",
   "metadata": {},
   "outputs": [
    {
     "name": "stdout",
     "output_type": "stream",
     "text": [
      "(27, 1) (7, 1) (27,) (7,)\n"
     ]
    }
   ],
   "source": [
    "print(X_train.shape, X_test.shape, y_train.shape, y_test.shape)"
   ]
  },
  {
   "cell_type": "code",
   "execution_count": 86,
   "id": "44aaeea2",
   "metadata": {},
   "outputs": [],
   "source": [
    "reg = RandomForestRegressor()"
   ]
  },
  {
   "cell_type": "code",
   "execution_count": 87,
   "id": "65e40674",
   "metadata": {},
   "outputs": [
    {
     "data": {
      "text/plain": [
       "RandomForestRegressor()"
      ]
     },
     "execution_count": 87,
     "metadata": {},
     "output_type": "execute_result"
    }
   ],
   "source": [
    "reg.fit(X_train, y_train)"
   ]
  },
  {
   "cell_type": "code",
   "execution_count": 88,
   "id": "d4b3864e",
   "metadata": {},
   "outputs": [],
   "source": [
    "preds = reg.predict(X_test)\n"
   ]
  },
  {
   "cell_type": "code",
   "execution_count": 89,
   "id": "a80783a8",
   "metadata": {},
   "outputs": [
    {
     "name": "stderr",
     "output_type": "stream",
     "text": [
      "/home/ubuntu/miniconda3/envs/gridding/lib/python3.7/site-packages/sklearn/metrics/_regression.py:90: FutureWarning: Arrays of bytes/strings is being converted to decimal numbers if dtype='numeric'. This behavior is deprecated in 0.24 and will be removed in 1.1 (renaming of 0.26). Please convert your data to numeric values explicitly instead.\n",
      "  y_true = check_array(y_true, ensure_2d=False, dtype=dtype)\n"
     ]
    }
   ],
   "source": [
    "mse = mean_squared_error(y_test, preds)"
   ]
  },
  {
   "cell_type": "code",
   "execution_count": 90,
   "id": "53c89ba6",
   "metadata": {},
   "outputs": [
    {
     "data": {
      "text/plain": [
       "array(['5972083', '5957521', '5938914', '5888753', '5842568', '5806038',\n",
       "       '5836961'], dtype='<U21')"
      ]
     },
     "execution_count": 90,
     "metadata": {},
     "output_type": "execute_result"
    }
   ],
   "source": [
    "y_test"
   ]
  },
  {
   "cell_type": "code",
   "execution_count": 91,
   "id": "223457c8",
   "metadata": {},
   "outputs": [
    {
     "data": {
      "text/plain": [
       "array([5925470.81, 5925470.81, 5925470.81, 5895393.76, 5857978.57,\n",
       "       5817285.23, 5857978.57])"
      ]
     },
     "execution_count": 91,
     "metadata": {},
     "output_type": "execute_result"
    }
   ],
   "source": [
    "preds"
   ]
  },
  {
   "cell_type": "code",
   "execution_count": 92,
   "id": "1ea34a35",
   "metadata": {},
   "outputs": [
    {
     "data": {
      "text/plain": [
       "604350583.6412435"
      ]
     },
     "execution_count": 92,
     "metadata": {},
     "output_type": "execute_result"
    }
   ],
   "source": [
    "mse"
   ]
  },
  {
   "cell_type": "code",
   "execution_count": 93,
   "id": "b59f8667",
   "metadata": {},
   "outputs": [
    {
     "name": "stderr",
     "output_type": "stream",
     "text": [
      "/home/ubuntu/miniconda3/envs/gridding/lib/python3.7/site-packages/ipykernel_launcher.py:1: SettingWithCopyWarning: \n",
      "A value is trying to be set on a copy of a slice from a DataFrame.\n",
      "Try using .loc[row_indexer,col_indexer] = value instead\n",
      "\n",
      "See the caveats in the documentation: https://pandas.pydata.org/pandas-docs/stable/user_guide/indexing.html#returning-a-view-versus-a-copy\n",
      "  \"\"\"Entry point for launching an IPython kernel.\n"
     ]
    }
   ],
   "source": [
    "testing_data['predictions'] = preds"
   ]
  },
  {
   "cell_type": "code",
   "execution_count": 94,
   "id": "d8ccef39",
   "metadata": {},
   "outputs": [
    {
     "data": {
      "text/plain": [
       "array(['5972083', '5957521', '5938914', '5888753', '5842568', '5806038',\n",
       "       '5836961'], dtype='<U21')"
      ]
     },
     "execution_count": 94,
     "metadata": {},
     "output_type": "execute_result"
    }
   ],
   "source": [
    "y_test"
   ]
  },
  {
   "cell_type": "code",
   "execution_count": 96,
   "id": "a8f2755d",
   "metadata": {},
   "outputs": [
    {
     "data": {
      "text/plain": [
       "<matplotlib.legend.Legend at 0x7f9bceac3790>"
      ]
     },
     "execution_count": 96,
     "metadata": {},
     "output_type": "execute_result"
    },
    {
     "data": {
      "image/png": "[encoded data removed]",
      "text/plain": [
       "<Figure size 2160x1080 with 1 Axes>"
      ]
     },
     "metadata": {
      "needs_background": "light"
     },
     "output_type": "display_data"
    }
   ],
   "source": [
    "fig, ax = plt.subplots(figsize=(30, 15))\n",
    "testing_data['predictions'].head(50).plot(ax=ax, marker ='.', alpha=0.5, color='green')\n",
    "ploting_data['customers'].head(50).plot(ax=ax, marker ='.', alpha=0.5, color='blue')\n",
    "#testing_data['predictions'].plot(ax=ax, marker ='.')\n",
    "ax.set_xlabel('time',  fontsize=34)\n",
    "ax.set_ylabel('value',  fontsize=34)\n",
    "ax.set_title('Technical Assessment', fontsize=34)\n",
    "ax.legend(fontsize=34)"
   ]
  },
  {
   "cell_type": "code",
   "execution_count": null,
   "id": "72461fef",
   "metadata": {},
   "outputs": [],
   "source": [
    "# next steps pdp"
   ]
  }
 ],
 "metadata": {
  "kernelspec": {
   "display_name": "Python [conda env:gridding] *",
   "language": "python",
   "name": "conda-env-gridding-py"
  },
  "language_info": {
   "codemirror_mode": {
    "name": "ipython",
    "version": 3
   },
   "file_extension": ".py",
   "mimetype": "text/x-python",
   "name": "python",
   "nbconvert_exporter": "python",
   "pygments_lexer": "ipython3",
   "version": "3.7.11"
  }
 },
 "nbformat": 4,
 "nbformat_minor": 5
}
