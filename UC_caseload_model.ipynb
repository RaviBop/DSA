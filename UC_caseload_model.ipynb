{
 "cells": [
  {
   "cell_type": "code",
   "execution_count": 2,
   "id": "47cf129c-abd3-4de5-bbef-d3c03d2b5cf1",
   "metadata": {},
   "outputs": [],
   "source": [
    "import numpy as np\n",
    "import pandas as pd\n",
    "import geopandas as gpd\n",
    "import os\n",
    "import matplotlib.pylab as plt"
   ]
  },
  {
   "cell_type": "code",
   "execution_count": 3,
   "id": "f982fb16-c744-4282-9a5c-f7c8a90c59bd",
   "metadata": {},
   "outputs": [
    {
     "data": {
      "application/javascript": [
       "IPython.OutputArea.prototype._should_scroll = function(lines) {\n",
       "    return false;\n",
       "}\n"
      ],
      "text/plain": [
       "<IPython.core.display.Javascript object>"
      ]
     },
     "metadata": {},
     "output_type": "display_data"
    }
   ],
   "source": [
    "%%javascript\n",
    "IPython.OutputArea.prototype._should_scroll = function(lines) {\n",
    "    return false;\n",
    "}"
   ]
  },
  {
   "cell_type": "code",
   "execution_count": 5,
   "id": "1cfc8569-a8b4-4414-862e-10bb7fdc7231",
   "metadata": {},
   "outputs": [
    {
     "name": "stdout",
     "output_type": "stream",
     "text": [
      "CPU times: user 15 µs, sys: 1e+03 ns, total: 16 µs\n",
      "Wall time: 17.9 µs\n"
     ]
    }
   ],
   "source": [
    "%%time\n",
    "data_root = os.path.join(\"/\", \"Users\", \"ravinderboparai\", \"Documents\", \"DSA\", \"UC_Caseload_Model\")"
   ]
  },
  {
   "cell_type": "code",
   "execution_count": 44,
   "id": "cc907753-f522-473c-b69d-6dc0988b5c86",
   "metadata": {},
   "outputs": [],
   "source": [
    "training_data = pd.read_csv(os.path.join(data_root, 'training_dataset.csv'), \n",
    "                           encoding = \"ISO-8859-1\", engine='python', index_col = False) #encoding = \"utf-8\")\n",
    "\n",
    "testing_data = pd.read_csv(os.path.join(data_root, 'testing_dataset.csv'), \n",
    "                           encoding = \"ISO-8859-1\", engine='python', index_col = False) #encoding = \"utf-8\")"
   ]
  },
  {
   "cell_type": "code",
   "execution_count": 45,
   "id": "09da99f5-73c6-45eb-8446-f595379f385c",
   "metadata": {},
   "outputs": [
    {
     "data": {
      "text/html": [
       "<div>\n",
       "<style scoped>\n",
       "    .dataframe tbody tr th:only-of-type {\n",
       "        vertical-align: middle;\n",
       "    }\n",
       "\n",
       "    .dataframe tbody tr th {\n",
       "        vertical-align: top;\n",
       "    }\n",
       "\n",
       "    .dataframe thead th {\n",
       "        text-align: right;\n",
       "    }\n",
       "</style>\n",
       "<table border=\"1\" class=\"dataframe\">\n",
       "  <thead>\n",
       "    <tr style=\"text-align: right;\">\n",
       "      <th></th>\n",
       "      <th>People on Universal Credit</th>\n",
       "      <th>Unemployment rate (%)</th>\n",
       "      <th>CPI annual rate (%)</th>\n",
       "      <th>FTSE 100</th>\n",
       "      <th>GBP/USD</th>\n",
       "    </tr>\n",
       "  </thead>\n",
       "  <tbody>\n",
       "    <tr>\n",
       "      <th>0</th>\n",
       "      <td>1535143</td>\n",
       "      <td>3.9</td>\n",
       "      <td>2.1</td>\n",
       "      <td>6804.171579</td>\n",
       "      <td>1.266152</td>\n",
       "    </tr>\n",
       "    <tr>\n",
       "      <th>1</th>\n",
       "      <td>1618043</td>\n",
       "      <td>3.9</td>\n",
       "      <td>1.8</td>\n",
       "      <td>6850.648182</td>\n",
       "      <td>1.289861</td>\n",
       "    </tr>\n",
       "    <tr>\n",
       "      <th>2</th>\n",
       "      <td>1706607</td>\n",
       "      <td>3.8</td>\n",
       "      <td>1.9</td>\n",
       "      <td>7142.025500</td>\n",
       "      <td>1.301110</td>\n",
       "    </tr>\n",
       "    <tr>\n",
       "      <th>3</th>\n",
       "      <td>1816280</td>\n",
       "      <td>3.8</td>\n",
       "      <td>1.9</td>\n",
       "      <td>7194.823810</td>\n",
       "      <td>1.317267</td>\n",
       "    </tr>\n",
       "    <tr>\n",
       "      <th>4</th>\n",
       "      <td>1940904</td>\n",
       "      <td>3.8</td>\n",
       "      <td>2.1</td>\n",
       "      <td>7427.247500</td>\n",
       "      <td>1.302800</td>\n",
       "    </tr>\n",
       "    <tr>\n",
       "      <th>5</th>\n",
       "      <td>2026245</td>\n",
       "      <td>3.9</td>\n",
       "      <td>2.0</td>\n",
       "      <td>7287.482381</td>\n",
       "      <td>1.283957</td>\n",
       "    </tr>\n",
       "    <tr>\n",
       "      <th>6</th>\n",
       "      <td>2151015</td>\n",
       "      <td>3.8</td>\n",
       "      <td>2.0</td>\n",
       "      <td>7346.244500</td>\n",
       "      <td>1.267435</td>\n",
       "    </tr>\n",
       "    <tr>\n",
       "      <th>7</th>\n",
       "      <td>2249063</td>\n",
       "      <td>3.9</td>\n",
       "      <td>2.1</td>\n",
       "      <td>7542.238696</td>\n",
       "      <td>1.246117</td>\n",
       "    </tr>\n",
       "    <tr>\n",
       "      <th>8</th>\n",
       "      <td>2350373</td>\n",
       "      <td>3.8</td>\n",
       "      <td>1.7</td>\n",
       "      <td>7221.559524</td>\n",
       "      <td>1.215095</td>\n",
       "    </tr>\n",
       "    <tr>\n",
       "      <th>9</th>\n",
       "      <td>2454646</td>\n",
       "      <td>3.8</td>\n",
       "      <td>1.7</td>\n",
       "      <td>7310.380476</td>\n",
       "      <td>1.235329</td>\n",
       "    </tr>\n",
       "  </tbody>\n",
       "</table>\n",
       "</div>"
      ],
      "text/plain": [
       "   People on Universal Credit  Unemployment rate (%)  CPI annual rate (%)  \\\n",
       "0                     1535143                    3.9                  2.1   \n",
       "1                     1618043                    3.9                  1.8   \n",
       "2                     1706607                    3.8                  1.9   \n",
       "3                     1816280                    3.8                  1.9   \n",
       "4                     1940904                    3.8                  2.1   \n",
       "5                     2026245                    3.9                  2.0   \n",
       "6                     2151015                    3.8                  2.0   \n",
       "7                     2249063                    3.9                  2.1   \n",
       "8                     2350373                    3.8                  1.7   \n",
       "9                     2454646                    3.8                  1.7   \n",
       "\n",
       "      FTSE 100   GBP/USD  \n",
       "0  6804.171579  1.266152  \n",
       "1  6850.648182  1.289861  \n",
       "2  7142.025500  1.301110  \n",
       "3  7194.823810  1.317267  \n",
       "4  7427.247500  1.302800  \n",
       "5  7287.482381  1.283957  \n",
       "6  7346.244500  1.267435  \n",
       "7  7542.238696  1.246117  \n",
       "8  7221.559524  1.215095  \n",
       "9  7310.380476  1.235329  "
      ]
     },
     "execution_count": 45,
     "metadata": {},
     "output_type": "execute_result"
    }
   ],
   "source": [
    "training_data"
   ]
  },
  {
   "cell_type": "code",
   "execution_count": 46,
   "id": "47a57e6c-b2b5-4fdf-ba0c-20a09f110b74",
   "metadata": {},
   "outputs": [
    {
     "data": {
      "text/html": [
       "<div>\n",
       "<style scoped>\n",
       "    .dataframe tbody tr th:only-of-type {\n",
       "        vertical-align: middle;\n",
       "    }\n",
       "\n",
       "    .dataframe tbody tr th {\n",
       "        vertical-align: top;\n",
       "    }\n",
       "\n",
       "    .dataframe thead th {\n",
       "        text-align: right;\n",
       "    }\n",
       "</style>\n",
       "<table border=\"1\" class=\"dataframe\">\n",
       "  <thead>\n",
       "    <tr style=\"text-align: right;\">\n",
       "      <th></th>\n",
       "      <th>People on Universal Credit</th>\n",
       "      <th>Unemployment rate (%)</th>\n",
       "      <th>CPI annual rate (%)</th>\n",
       "      <th>FTSE 100</th>\n",
       "      <th>GBP/USD</th>\n",
       "    </tr>\n",
       "  </thead>\n",
       "  <tbody>\n",
       "    <tr>\n",
       "      <th>0</th>\n",
       "      <td>2546973</td>\n",
       "      <td>3.8</td>\n",
       "      <td>1.5</td>\n",
       "      <td>7228.213043</td>\n",
       "      <td>1.265761</td>\n",
       "    </tr>\n",
       "    <tr>\n",
       "      <th>1</th>\n",
       "      <td>2655220</td>\n",
       "      <td>3.8</td>\n",
       "      <td>1.5</td>\n",
       "      <td>7343.661429</td>\n",
       "      <td>1.288200</td>\n",
       "    </tr>\n",
       "    <tr>\n",
       "      <th>2</th>\n",
       "      <td>2730575</td>\n",
       "      <td>3.9</td>\n",
       "      <td>1.3</td>\n",
       "      <td>7370.365556</td>\n",
       "      <td>1.309623</td>\n",
       "    </tr>\n",
       "    <tr>\n",
       "      <th>3</th>\n",
       "      <td>2773081</td>\n",
       "      <td>4.0</td>\n",
       "      <td>1.8</td>\n",
       "      <td>7569.651364</td>\n",
       "      <td>1.308287</td>\n",
       "    </tr>\n",
       "    <tr>\n",
       "      <th>4</th>\n",
       "      <td>2915508</td>\n",
       "      <td>4.0</td>\n",
       "      <td>1.7</td>\n",
       "      <td>7348.719000</td>\n",
       "      <td>1.295325</td>\n",
       "    </tr>\n",
       "    <tr>\n",
       "      <th>5</th>\n",
       "      <td>3012736</td>\n",
       "      <td>4.0</td>\n",
       "      <td>1.5</td>\n",
       "      <td>5783.192273</td>\n",
       "      <td>1.235777</td>\n",
       "    </tr>\n",
       "    <tr>\n",
       "      <th>6</th>\n",
       "      <td>4210379</td>\n",
       "      <td>4.1</td>\n",
       "      <td>0.8</td>\n",
       "      <td>5717.885000</td>\n",
       "      <td>1.241627</td>\n",
       "    </tr>\n",
       "    <tr>\n",
       "      <th>7</th>\n",
       "      <td>5259937</td>\n",
       "      <td>4.1</td>\n",
       "      <td>0.5</td>\n",
       "      <td>5947.072632</td>\n",
       "      <td>1.229181</td>\n",
       "    </tr>\n",
       "    <tr>\n",
       "      <th>8</th>\n",
       "      <td>5430945</td>\n",
       "      <td>4.3</td>\n",
       "      <td>0.6</td>\n",
       "      <td>6240.394545</td>\n",
       "      <td>1.252523</td>\n",
       "    </tr>\n",
       "    <tr>\n",
       "      <th>9</th>\n",
       "      <td>5511859</td>\n",
       "      <td>4.5</td>\n",
       "      <td>1.0</td>\n",
       "      <td>6179.181304</td>\n",
       "      <td>1.268313</td>\n",
       "    </tr>\n",
       "    <tr>\n",
       "      <th>10</th>\n",
       "      <td>5571239</td>\n",
       "      <td>4.8</td>\n",
       "      <td>0.2</td>\n",
       "      <td>6070.488000</td>\n",
       "      <td>1.313376</td>\n",
       "    </tr>\n",
       "    <tr>\n",
       "      <th>11</th>\n",
       "      <td>5639688</td>\n",
       "      <td>5.0</td>\n",
       "      <td>0.5</td>\n",
       "      <td>5937.435909</td>\n",
       "      <td>1.295414</td>\n",
       "    </tr>\n",
       "    <tr>\n",
       "      <th>12</th>\n",
       "      <td>5675985</td>\n",
       "      <td>5.1</td>\n",
       "      <td>0.7</td>\n",
       "      <td>5864.617273</td>\n",
       "      <td>1.297623</td>\n",
       "    </tr>\n",
       "    <tr>\n",
       "      <th>13</th>\n",
       "      <td>5789314</td>\n",
       "      <td>5.2</td>\n",
       "      <td>0.3</td>\n",
       "      <td>6189.729048</td>\n",
       "      <td>1.321443</td>\n",
       "    </tr>\n",
       "    <tr>\n",
       "      <th>14</th>\n",
       "      <td>5877471</td>\n",
       "      <td>5.1</td>\n",
       "      <td>0.6</td>\n",
       "      <td>6503.112000</td>\n",
       "      <td>1.345052</td>\n",
       "    </tr>\n",
       "    <tr>\n",
       "      <th>15</th>\n",
       "      <td>5899849</td>\n",
       "      <td>5.0</td>\n",
       "      <td>0.7</td>\n",
       "      <td>6701.168500</td>\n",
       "      <td>1.364181</td>\n",
       "    </tr>\n",
       "    <tr>\n",
       "      <th>16</th>\n",
       "      <td>5947512</td>\n",
       "      <td>4.9</td>\n",
       "      <td>0.4</td>\n",
       "      <td>6579.775500</td>\n",
       "      <td>1.386545</td>\n",
       "    </tr>\n",
       "    <tr>\n",
       "      <th>17</th>\n",
       "      <td>5972083</td>\n",
       "      <td>4.8</td>\n",
       "      <td>0.7</td>\n",
       "      <td>6703.580000</td>\n",
       "      <td>1.385848</td>\n",
       "    </tr>\n",
       "    <tr>\n",
       "      <th>18</th>\n",
       "      <td>5957521</td>\n",
       "      <td>4.8</td>\n",
       "      <td>1.5</td>\n",
       "      <td>6910.263500</td>\n",
       "      <td>1.384036</td>\n",
       "    </tr>\n",
       "    <tr>\n",
       "      <th>19</th>\n",
       "      <td>5938914</td>\n",
       "      <td>4.7</td>\n",
       "      <td>2.1</td>\n",
       "      <td>7021.290000</td>\n",
       "      <td>1.408610</td>\n",
       "    </tr>\n",
       "    <tr>\n",
       "      <th>20</th>\n",
       "      <td>5888753</td>\n",
       "      <td>4.6</td>\n",
       "      <td>2.5</td>\n",
       "      <td>7096.725000</td>\n",
       "      <td>1.401759</td>\n",
       "    </tr>\n",
       "    <tr>\n",
       "      <th>21</th>\n",
       "      <td>5842568</td>\n",
       "      <td>4.5</td>\n",
       "      <td>2.0</td>\n",
       "      <td>7047.860455</td>\n",
       "      <td>1.381027</td>\n",
       "    </tr>\n",
       "  </tbody>\n",
       "</table>\n",
       "</div>"
      ],
      "text/plain": [
       "    People on Universal Credit  Unemployment rate (%)  CPI annual rate (%)  \\\n",
       "0                      2546973                    3.8                  1.5   \n",
       "1                      2655220                    3.8                  1.5   \n",
       "2                      2730575                    3.9                  1.3   \n",
       "3                      2773081                    4.0                  1.8   \n",
       "4                      2915508                    4.0                  1.7   \n",
       "5                      3012736                    4.0                  1.5   \n",
       "6                      4210379                    4.1                  0.8   \n",
       "7                      5259937                    4.1                  0.5   \n",
       "8                      5430945                    4.3                  0.6   \n",
       "9                      5511859                    4.5                  1.0   \n",
       "10                     5571239                    4.8                  0.2   \n",
       "11                     5639688                    5.0                  0.5   \n",
       "12                     5675985                    5.1                  0.7   \n",
       "13                     5789314                    5.2                  0.3   \n",
       "14                     5877471                    5.1                  0.6   \n",
       "15                     5899849                    5.0                  0.7   \n",
       "16                     5947512                    4.9                  0.4   \n",
       "17                     5972083                    4.8                  0.7   \n",
       "18                     5957521                    4.8                  1.5   \n",
       "19                     5938914                    4.7                  2.1   \n",
       "20                     5888753                    4.6                  2.5   \n",
       "21                     5842568                    4.5                  2.0   \n",
       "\n",
       "       FTSE 100   GBP/USD  \n",
       "0   7228.213043  1.265761  \n",
       "1   7343.661429  1.288200  \n",
       "2   7370.365556  1.309623  \n",
       "3   7569.651364  1.308287  \n",
       "4   7348.719000  1.295325  \n",
       "5   5783.192273  1.235777  \n",
       "6   5717.885000  1.241627  \n",
       "7   5947.072632  1.229181  \n",
       "8   6240.394545  1.252523  \n",
       "9   6179.181304  1.268313  \n",
       "10  6070.488000  1.313376  \n",
       "11  5937.435909  1.295414  \n",
       "12  5864.617273  1.297623  \n",
       "13  6189.729048  1.321443  \n",
       "14  6503.112000  1.345052  \n",
       "15  6701.168500  1.364181  \n",
       "16  6579.775500  1.386545  \n",
       "17  6703.580000  1.385848  \n",
       "18  6910.263500  1.384036  \n",
       "19  7021.290000  1.408610  \n",
       "20  7096.725000  1.401759  \n",
       "21  7047.860455  1.381027  "
      ]
     },
     "execution_count": 46,
     "metadata": {},
     "output_type": "execute_result"
    }
   ],
   "source": [
    "testing_data"
   ]
  },
  {
   "cell_type": "code",
   "execution_count": 24,
   "id": "426e4d8e-83f7-4cfc-8cf8-91db8453905c",
   "metadata": {},
   "outputs": [
    {
     "name": "stdout",
     "output_type": "stream",
     "text": [
      "(22, 5) (10, 5)\n"
     ]
    }
   ],
   "source": [
    "print(testing_data.shape, training_data.shape)"
   ]
  },
  {
   "cell_type": "code",
   "execution_count": 17,
   "id": "83ad0ab4-4152-48e0-aea0-29633fa44ba0",
   "metadata": {},
   "outputs": [],
   "source": [
    "import scipy.io\n",
    "import matplotlib.pyplot as plt\n",
    "from sklearn.utils import shuffle\n",
    "from sklearn.ensemble import RandomForestRegressor\n",
    "from sklearn.model_selection import train_test_split\n",
    "from sklearn.metrics import accuracy_score\n",
    "from sklearn.metrics import precision_score\n",
    "from sklearn.metrics import recall_score\n",
    "from sklearn.metrics import r2_score, mean_squared_error, mean_absolute_error"
   ]
  },
  {
   "cell_type": "code",
   "execution_count": 25,
   "id": "954fa609-8efd-4722-8a9a-0575e9849379",
   "metadata": {},
   "outputs": [],
   "source": [
    "y_train = training_data['People on Universal Credit'].to_numpy(copy=True, dtype=str)\n",
    "y_test = testing_data['People on Universal Credit'].to_numpy(copy=True, dtype=str)"
   ]
  },
  {
   "cell_type": "code",
   "execution_count": 26,
   "id": "0b654235-798e-45a2-ba57-d1eb25af378b",
   "metadata": {},
   "outputs": [],
   "source": [
    "training_data = training_data.drop(columns=['People on Universal Credit'])\n",
    "ploting_data = pd.DataFrame(testing_data['People on Universal Credit'])\n",
    "testing_data = testing_data.drop(columns=['People on Universal Credit'])"
   ]
  },
  {
   "cell_type": "code",
   "execution_count": 27,
   "id": "826a780a-bd51-4181-980f-e346b84a553b",
   "metadata": {},
   "outputs": [],
   "source": [
    "X_train = training_data.to_numpy(copy=True, dtype=np.float32)\n",
    "X_test = testing_data.to_numpy(copy=True, dtype=np.float32)"
   ]
  },
  {
   "cell_type": "code",
   "execution_count": 28,
   "id": "0d69a666-c119-405e-8977-71ea1ce677e4",
   "metadata": {},
   "outputs": [
    {
     "name": "stdout",
     "output_type": "stream",
     "text": [
      "(10, 4) (22, 4) (10,) (22,)\n"
     ]
    }
   ],
   "source": [
    "print(X_train.shape, X_test.shape, y_train.shape, y_test.shape)"
   ]
  },
  {
   "cell_type": "code",
   "execution_count": 29,
   "id": "954b689e-05ae-4a26-819e-66ccbec504e6",
   "metadata": {},
   "outputs": [
    {
     "name": "stdout",
     "output_type": "stream",
     "text": [
      "[3.9000001e+00 2.0000000e+00 7.2874824e+03 1.2839565e+00] 2026245\n"
     ]
    }
   ],
   "source": [
    "n=5\n",
    "print(X_train[n], y_train[n])"
   ]
  },
  {
   "cell_type": "code",
   "execution_count": 30,
   "id": "6dfd9954-7900-4574-b830-9c22933e9b04",
   "metadata": {},
   "outputs": [],
   "source": [
    "reg = RandomForestRegressor()"
   ]
  },
  {
   "cell_type": "code",
   "execution_count": 31,
   "id": "807adeba-1cca-43c8-bb02-b444838056dd",
   "metadata": {},
   "outputs": [
    {
     "data": {
      "text/plain": [
       "RandomForestRegressor()"
      ]
     },
     "execution_count": 31,
     "metadata": {},
     "output_type": "execute_result"
    }
   ],
   "source": [
    "reg.fit(X_train, y_train)"
   ]
  },
  {
   "cell_type": "code",
   "execution_count": 32,
   "id": "0c52d357-134b-46ac-8623-92f4ae5ba001",
   "metadata": {},
   "outputs": [],
   "source": [
    "preds = reg.predict(X_test)"
   ]
  },
  {
   "cell_type": "code",
   "execution_count": 33,
   "id": "32011b13-c9e5-4942-aa15-4274f46de01f",
   "metadata": {},
   "outputs": [
    {
     "name": "stderr",
     "output_type": "stream",
     "text": [
      "/opt/anaconda3/lib/python3.8/site-packages/sklearn/utils/validation.py:63: FutureWarning: Arrays of bytes/strings is being converted to decimal numbers if dtype='numeric'. This behavior is deprecated in 0.24 and will be removed in 1.1 (renaming of 0.26). Please convert your data to numeric values explicitly instead.\n",
      "  return f(*args, **kwargs)\n"
     ]
    }
   ],
   "source": [
    "mse = mean_squared_error(y_test, preds)"
   ]
  },
  {
   "cell_type": "code",
   "execution_count": 34,
   "id": "f197a99d-995e-4ef2-bf64-334bf13bd8c6",
   "metadata": {},
   "outputs": [
    {
     "data": {
      "text/plain": [
       "array(['2546973', '2655220', '2730575', '2773081', '2915508', '3012736',\n",
       "       '4210379', '5259937', '5430945', '5511859', '5571239', '5639688',\n",
       "       '5675985', '5789314', '5877471', '5899849', '5947512', '5972083',\n",
       "       '5957521', '5938914', '5888753', '5842568'], dtype='<U21')"
      ]
     },
     "execution_count": 34,
     "metadata": {},
     "output_type": "execute_result"
    }
   ],
   "source": [
    "y_test"
   ]
  },
  {
   "cell_type": "code",
   "execution_count": 36,
   "id": "0c20bdbe-c0dd-401a-9bdc-f45c038ff29d",
   "metadata": {},
   "outputs": [
    {
     "data": {
      "text/plain": [
       "array([2100191.4 , 2016791.15, 1998686.41, 1971362.99, 1987083.37,\n",
       "       2011024.29, 1995747.87, 2015076.69, 1953519.16, 1776678.11,\n",
       "       1708804.53, 1675850.79, 1690329.93, 1708804.53, 1708804.53,\n",
       "       1708804.53, 1708804.53, 1708804.53, 1717923.53, 1708763.19,\n",
       "       1770373.01, 1751694.14])"
      ]
     },
     "execution_count": 36,
     "metadata": {},
     "output_type": "execute_result"
    }
   ],
   "source": [
    "preds"
   ]
  },
  {
   "cell_type": "code",
   "execution_count": 37,
   "id": "68911ed3-8a42-4613-8ea0-9e88df3ffeb1",
   "metadata": {},
   "outputs": [
    {
     "data": {
      "text/plain": [
       "11315667525238.207"
      ]
     },
     "execution_count": 37,
     "metadata": {},
     "output_type": "execute_result"
    }
   ],
   "source": [
    "mse"
   ]
  },
  {
   "cell_type": "code",
   "execution_count": 38,
   "id": "32ab3703-5fe4-4e47-a1f6-705a4bb45128",
   "metadata": {},
   "outputs": [],
   "source": [
    "testing_data['predictions']=preds"
   ]
  },
  {
   "cell_type": "code",
   "execution_count": 42,
   "id": "d569e79f-9a03-4c0f-b67f-04ba08bc3ae0",
   "metadata": {},
   "outputs": [
    {
     "data": {
      "text/plain": [
       "<matplotlib.legend.Legend at 0x7fbcd2f82700>"
      ]
     },
     "execution_count": 42,
     "metadata": {},
     "output_type": "execute_result"
    },
    {
     "data": {
      "image/png": "[encoded data removed]",
      "text/plain": [
       "<Figure size 2160x1080 with 1 Axes>"
      ]
     },
     "metadata": {
      "needs_background": "light"
     },
     "output_type": "display_data"
    }
   ],
   "source": [
    "fig, ax = plt.subplots(figsize=(30, 15))\n",
    "testing_data['predictions'].head(50).plot(ax=ax, marker ='.', alpha=0.5, color='green')\n",
    "ploting_data['People on Universal Credit'].head(50).plot(ax=ax, marker ='.', alpha=0.5, color='blue')\n",
    "#testing_data['predictions'].plot(ax=ax, marker ='.')\n",
    "ax.set_xlabel('Month',  fontsize=34)\n",
    "ax.set_ylabel('value',  fontsize=34)\n",
    "ax.set_title('Technical Assessment', fontsize=34)\n",
    "ax.legend(fontsize=34)"
   ]
  },
  {
   "cell_type": "code",
   "execution_count": null,
   "id": "302117f3-fe83-446f-9928-b2191a57dcef",
   "metadata": {},
   "outputs": [],
   "source": []
  }
 ],
 "metadata": {
  "kernelspec": {
   "display_name": "Python 3",
   "language": "python",
   "name": "python3"
  },
  "language_info": {
   "codemirror_mode": {
    "name": "ipython",
    "version": 3
   },
   "file_extension": ".py",
   "mimetype": "text/x-python",
   "name": "python",
   "nbconvert_exporter": "python",
   "pygments_lexer": "ipython3",
   "version": "3.8.8"
  }
 },
 "nbformat": 4,
 "nbformat_minor": 5
}
