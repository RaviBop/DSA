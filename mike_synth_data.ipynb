{
 "cells": [
  {
   "cell_type": "code",
   "execution_count": 1,
   "id": "d799ed48",
   "metadata": {},
   "outputs": [],
   "source": [
    "import numpy as np\n",
    "import pandas as pd\n",
    "import random"
   ]
  },
  {
   "cell_type": "code",
   "execution_count": 2,
   "id": "b56fbd9d",
   "metadata": {},
   "outputs": [],
   "source": [
    "government_office_region_name = ['Channel Islands', 'East Midlands', 'East of England', 'Isle of Man', 'London',\n",
    "                               'MISSING','No Government Office Region Code Supplied','North East','North West',\n",
    "                               'Northern Ireland','Scotland','South East','South West','Wales','West Midlands',\n",
    "                               'Yorkshire and The Humber']\n",
    "\n",
    "government_office_region_percentage = [0, 6.29, 7.74, 0, 15.44, 6.58, 0, 4.18, 11.52, 2.28, 7.43, \n",
    "                                       10.59, 6.99, 4.22, 8.83, 7.92]\n",
    "\n",
    "\n",
    "\n",
    "age_percentage = [0,0,0,0,0,0,0,0,0,0,0,0,0,0,0,0.02,0.13,0.62,1.47,2.05,2.36,2.6,2.82,2.88,2.84,2.78,2.8,2.83,2.91,\n",
    "                  2.92,2.99,2.89,2.86,2.75,2.62,2.55,2.42,2.3,2.23,2.14,2.14,1.98,1.8,1.66,1.63,1.6,1.59,1.55,\n",
    "                  1.57,1.58,1.56,1.5,1.48,1.42,1.36,1.31,1.27,1.19,1.14,1.06,1.03,0.92,0.88,0.82,0.75,0.66,0.47,\n",
    "                  0.15,0.08,0.06,0.05,0.04,0.03,0.03,0.02,0.01,0.01,0.01,0.01,0.01,0,0,0,0,0,0,0,0,0,0,0,0,0,0,\n",
    "                  0,0,0,0,0,5.8]\n",
    "\n",
    "age_list = list(range(1,101))"
   ]
  },
  {
   "cell_type": "code",
   "execution_count": 3,
   "id": "a7b62e0a",
   "metadata": {},
   "outputs": [],
   "source": [
    "synth_population_factor = 1000"
   ]
  },
  {
   "cell_type": "code",
   "execution_count": 4,
   "id": "d016de2d",
   "metadata": {},
   "outputs": [],
   "source": [
    "#\n",
    "# decided to keep age categorical for now.\n",
    "#\n",
    "\n",
    "first = True\n",
    "for idx, age in enumerate(age_list):\n",
    "    num_elements = round((age_percentage[idx] * synth_population_factor))\n",
    "    if idx == 99:\n",
    "        temp = np.full((1, num_elements), np.nan)\n",
    "    else:\n",
    "        temp = np.full((1, num_elements), age)\n",
    "    if first == True:\n",
    "        array = temp\n",
    "        first = False\n",
    "    else:\n",
    "        array = np.append(array, temp)\n",
    "        \n",
    "array = array[0:synth_population_factor*100] #rouning errors remove unwanted elements.\n",
    "age_df = pd.DataFrame(array)"
   ]
  },
  {
   "cell_type": "code",
   "execution_count": 5,
   "id": "bc9cbfff",
   "metadata": {},
   "outputs": [],
   "source": [
    "\n",
    "first = True\n",
    "for idx, region in enumerate(government_office_region_name):\n",
    "    num_elements = round((government_office_region_percentage[idx] * synth_population_factor))\n",
    "    temp = np.full((1, num_elements), region)\n",
    "    if first == True:\n",
    "        array = temp\n",
    "        first = False\n",
    "    else:\n",
    "        array = np.append(array, temp)\n",
    "        \n",
    "array = array[0:synth_population_factor*100] #rouning errors remove unwanted elements.\n",
    "region_df = pd.DataFrame(array)\n",
    "\n",
    "#\n",
    "# need to add more here for the other categorical data needed\n",
    "#"
   ]
  },
  {
   "cell_type": "code",
   "execution_count": 6,
   "id": "2636ff08",
   "metadata": {},
   "outputs": [],
   "source": [
    "# could create a function?"
   ]
  },
  {
   "cell_type": "code",
   "execution_count": 7,
   "id": "da9abc41",
   "metadata": {},
   "outputs": [],
   "source": [
    "index = list(range(0, 100000))\n",
    "random.shuffle(index)"
   ]
  },
  {
   "cell_type": "code",
   "execution_count": 8,
   "id": "cd446de8",
   "metadata": {},
   "outputs": [],
   "source": [
    "target_df = pd.DataFrame(index, columns=['pk'])"
   ]
  },
  {
   "cell_type": "code",
   "execution_count": 9,
   "id": "e47f262f",
   "metadata": {},
   "outputs": [],
   "source": [
    "target_df = pd.concat([target_df, region_df, age_df], axis=1)"
   ]
  },
  {
   "cell_type": "code",
   "execution_count": 10,
   "id": "fc4e6d9d",
   "metadata": {},
   "outputs": [],
   "source": [
    "target_df = target_df.sort_values(by=['pk'], ignore_index=True)"
   ]
  },
  {
   "cell_type": "code",
   "execution_count": 11,
   "id": "8b5fbc30",
   "metadata": {},
   "outputs": [
    {
     "data": {
      "text/html": [
       "<div>\n",
       "<style scoped>\n",
       "    .dataframe tbody tr th:only-of-type {\n",
       "        vertical-align: middle;\n",
       "    }\n",
       "\n",
       "    .dataframe tbody tr th {\n",
       "        vertical-align: top;\n",
       "    }\n",
       "\n",
       "    .dataframe thead th {\n",
       "        text-align: right;\n",
       "    }\n",
       "</style>\n",
       "<table border=\"1\" class=\"dataframe\">\n",
       "  <thead>\n",
       "    <tr style=\"text-align: right;\">\n",
       "      <th></th>\n",
       "      <th>pk</th>\n",
       "      <th>0</th>\n",
       "      <th>0</th>\n",
       "    </tr>\n",
       "  </thead>\n",
       "  <tbody>\n",
       "    <tr>\n",
       "      <th>0</th>\n",
       "      <td>0</td>\n",
       "      <td>South West</td>\n",
       "      <td>52.0</td>\n",
       "    </tr>\n",
       "    <tr>\n",
       "      <th>1</th>\n",
       "      <td>1</td>\n",
       "      <td>Scotland</td>\n",
       "      <td>42.0</td>\n",
       "    </tr>\n",
       "    <tr>\n",
       "      <th>2</th>\n",
       "      <td>2</td>\n",
       "      <td>South West</td>\n",
       "      <td>50.0</td>\n",
       "    </tr>\n",
       "    <tr>\n",
       "      <th>3</th>\n",
       "      <td>3</td>\n",
       "      <td>East Midlands</td>\n",
       "      <td>20.0</td>\n",
       "    </tr>\n",
       "    <tr>\n",
       "      <th>4</th>\n",
       "      <td>4</td>\n",
       "      <td>Yorkshire and The Humber</td>\n",
       "      <td>NaN</td>\n",
       "    </tr>\n",
       "    <tr>\n",
       "      <th>...</th>\n",
       "      <td>...</td>\n",
       "      <td>...</td>\n",
       "      <td>...</td>\n",
       "    </tr>\n",
       "    <tr>\n",
       "      <th>99995</th>\n",
       "      <td>99995</td>\n",
       "      <td>Wales</td>\n",
       "      <td>56.0</td>\n",
       "    </tr>\n",
       "    <tr>\n",
       "      <th>99996</th>\n",
       "      <td>99996</td>\n",
       "      <td>East Midlands</td>\n",
       "      <td>21.0</td>\n",
       "    </tr>\n",
       "    <tr>\n",
       "      <th>99997</th>\n",
       "      <td>99997</td>\n",
       "      <td>South East</td>\n",
       "      <td>46.0</td>\n",
       "    </tr>\n",
       "    <tr>\n",
       "      <th>99998</th>\n",
       "      <td>99998</td>\n",
       "      <td>South East</td>\n",
       "      <td>48.0</td>\n",
       "    </tr>\n",
       "    <tr>\n",
       "      <th>99999</th>\n",
       "      <td>99999</td>\n",
       "      <td>Scotland</td>\n",
       "      <td>39.0</td>\n",
       "    </tr>\n",
       "  </tbody>\n",
       "</table>\n",
       "<p>100000 rows × 3 columns</p>\n",
       "</div>"
      ],
      "text/plain": [
       "          pk                         0     0\n",
       "0          0                South West  52.0\n",
       "1          1                  Scotland  42.0\n",
       "2          2                South West  50.0\n",
       "3          3             East Midlands  20.0\n",
       "4          4  Yorkshire and The Humber   NaN\n",
       "...      ...                       ...   ...\n",
       "99995  99995                     Wales  56.0\n",
       "99996  99996             East Midlands  21.0\n",
       "99997  99997                South East  46.0\n",
       "99998  99998                South East  48.0\n",
       "99999  99999                  Scotland  39.0\n",
       "\n",
       "[100000 rows x 3 columns]"
      ]
     },
     "execution_count": 11,
     "metadata": {},
     "output_type": "execute_result"
    }
   ],
   "source": [
    "target_df"
   ]
  },
  {
   "cell_type": "code",
   "execution_count": null,
   "id": "03826011",
   "metadata": {},
   "outputs": [],
   "source": []
  }
 ],
 "metadata": {
  "kernelspec": {
   "display_name": "Python [conda env:DSA] *",
   "language": "python",
   "name": "conda-env-DSA-py"
  },
  "language_info": {
   "codemirror_mode": {
    "name": "ipython",
    "version": 3
   },
   "file_extension": ".py",
   "mimetype": "text/x-python",
   "name": "python",
   "nbconvert_exporter": "python",
   "pygments_lexer": "ipython3",
   "version": "3.7.11"
  }
 },
 "nbformat": 4,
 "nbformat_minor": 5
}
